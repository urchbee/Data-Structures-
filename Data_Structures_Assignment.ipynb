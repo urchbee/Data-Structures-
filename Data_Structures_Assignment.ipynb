{
  "nbformat": 4,
  "nbformat_minor": 0,
  "metadata": {
    "interpreter": {
      "hash": "57ae10df0ce81e929dd2c30a036359a892629e803d6b3728fc9d9d0d990384aa"
    },
    "kernelspec": {
      "display_name": "Python 3.9.6 64-bit",
      "name": "python3"
    },
    "language_info": {
      "codemirror_mode": {
        "name": "ipython",
        "version": 3
      },
      "file_extension": ".py",
      "mimetype": "text/x-python",
      "name": "python",
      "nbconvert_exporter": "python",
      "pygments_lexer": "ipython3",
      "version": "3.9.6"
    },
    "colab": {
      "name": "Data Structures Assignment.ipynb",
      "provenance": [],
      "collapsed_sections": [],
      "include_colab_link": true
    }
  },
  "cells": [
    {
      "cell_type": "markdown",
      "metadata": {
        "id": "view-in-github",
        "colab_type": "text"
      },
      "source": [
        "<a href=\"https://colab.research.google.com/github/urchbee/Data-Structures-/blob/main/Data_Structures_Assignment.ipynb\" target=\"_parent\"><img src=\"https://colab.research.google.com/assets/colab-badge.svg\" alt=\"Open In Colab\"/></a>"
      ]
    },
    {
      "cell_type": "markdown",
      "metadata": {
        "id": "mcMCEnY4W15N"
      },
      "source": [
        "# **Assignment on Data Structures**"
      ]
    },
    {
      "cell_type": "markdown",
      "metadata": {
        "id": "1N_jG1ZOXI8Q"
      },
      "source": [
        "This assignment tests the knowledge on data types as well a data structures such as booleans, sets, lists. Also, Python operators like arithmetic, logical,arithmetic and comparison operators were used to solve some of the questions."
      ]
    },
    {
      "cell_type": "markdown",
      "metadata": {
        "id": "gVYIMks5592E"
      },
      "source": [
        "## 1. \n",
        "\n",
        "\n",
        "x = 16 - 2 * 5 // 3 + 1\n",
        "\n",
        "\n",
        "y = 2 ** 3 * 3\n",
        "\n",
        "what is x?\n",
        "what is y?\n",
        "\n",
        "Describe the order that the computation occurred in each case. i.e which happened first, followed by which one, etc."
      ]
    },
    {
      "cell_type": "code",
      "metadata": {
        "colab": {
          "base_uri": "https://localhost:8080/"
        },
        "id": "9zpwC_-nyoYc",
        "outputId": "6ede3c5f-b006-4262-da71-fabbf7152803"
      },
      "source": [
        "x = 16 - 2 * 5 // 3 + 1\n",
        "print(x)"
      ],
      "execution_count": 2,
      "outputs": [
        {
          "output_type": "stream",
          "name": "stdout",
          "text": [
            "14\n"
          ]
        }
      ]
    },
    {
      "cell_type": "markdown",
      "metadata": {
        "id": "wszum7rbzfTt"
      },
      "source": [
        "using PEDMAS- multiplication and division comes first before addition and subtraction. Hence moving from left to right, multiply 2 by 5 which is 10 then divide by 3 and round up to the nearest whole number which equals 3. Next 16 minus 3 is 13 and then add 1 which results in the final answer of 14"
      ]
    },
    {
      "cell_type": "code",
      "metadata": {
        "colab": {
          "base_uri": "https://localhost:8080/"
        },
        "id": "Xiri2b0Vznt8",
        "outputId": "81b2c020-5267-4a8c-ec70-4f889a9c25a2"
      },
      "source": [
        "y = 2**3 * 3\n",
        "print (y)"
      ],
      "execution_count": 3,
      "outputs": [
        {
          "output_type": "stream",
          "name": "stdout",
          "text": [
            "24\n"
          ]
        }
      ]
    },
    {
      "cell_type": "markdown",
      "metadata": {
        "id": "ITSa7iUqzsdd"
      },
      "source": [
        "still using PEDMAS, here exponentiation has the highest precedence over multiplcation. therefore, 2 raised to the power of 3 is 8. 8 multiplied by 3 is 24."
      ]
    },
    {
      "cell_type": "markdown",
      "metadata": {
        "id": "WdOVQ9Ea592u"
      },
      "source": [
        "## 2. \n",
        "Add parenthesis to the expression 6 * 1 - 2 to change the resulting value from 4 to -6."
      ]
    },
    {
      "cell_type": "code",
      "metadata": {
        "colab": {
          "base_uri": "https://localhost:8080/"
        },
        "id": "SOSlpLRvz6eX",
        "outputId": "c17779f0-3921-41f0-c3fc-52790360976d"
      },
      "source": [
        "6*(1-2)"
      ],
      "execution_count": 4,
      "outputs": [
        {
          "output_type": "execute_result",
          "data": {
            "text/plain": [
              "-6"
            ]
          },
          "metadata": {},
          "execution_count": 4
        }
      ]
    },
    {
      "cell_type": "markdown",
      "metadata": {
        "id": "NYH27GFe593M"
      },
      "source": [
        "## 3. \n",
        "Compute the area of a circle with radius 7, stored into a variable called area. \n",
        "Print a nice message with the answer.\n",
        "\n",
        "Note- Search for the formula to calculate area of a circle. "
      ]
    },
    {
      "cell_type": "code",
      "metadata": {
        "colab": {
          "base_uri": "https://localhost:8080/"
        },
        "id": "4gKsrqyXz_-d",
        "outputId": "250fcf16-064f-4e6b-88c1-cd86e8d736a5"
      },
      "source": [
        "area = 3.14 *7 ** 2\n",
        "print(area)"
      ],
      "execution_count": 5,
      "outputs": [
        {
          "output_type": "stream",
          "name": "stdout",
          "text": [
            "153.86\n"
          ]
        }
      ]
    },
    {
      "cell_type": "markdown",
      "metadata": {
        "id": "kMS2NehP593d"
      },
      "source": [
        "## 4. \n",
        "Write an expression to check to if a number 3, stored in a variable x, is between 0 and 5."
      ]
    },
    {
      "cell_type": "code",
      "metadata": {
        "colab": {
          "base_uri": "https://localhost:8080/"
        },
        "id": "bPmus1V20eRD",
        "outputId": "e5d4b81e-f656-4cba-b4b7-15bbcd008053"
      },
      "source": [
        "x = 3\n",
        "print(x > 0 or x < 5)"
      ],
      "execution_count": 54,
      "outputs": [
        {
          "output_type": "stream",
          "name": "stdout",
          "text": [
            "True\n"
          ]
        }
      ]
    },
    {
      "cell_type": "markdown",
      "metadata": {
        "id": "U3jzh8NU593j"
      },
      "source": [
        "## 5. \n",
        "\n",
        "Variables x and y refer to Boolean values.\n",
        "\n",
        "\n",
        "a. Write an expression that produces True if both variables are True.\n",
        "\n",
        "b. Write an expression that produces True if at least one of the variables\n",
        "is True.\n",
        "\n",
        "c. write an expression that inverses the result of 5a above."
      ]
    },
    {
      "cell_type": "code",
      "metadata": {
        "colab": {
          "base_uri": "https://localhost:8080/"
        },
        "id": "-_kf0nmJ3b83",
        "outputId": "cbc1400a-a29c-41e0-d0d0-65776b580500"
      },
      "source": [
        "x = 25\n",
        "print(x > 10 and x < 30)\n",
        "\n",
        "y = 6\n",
        "print(y < 8 or y > 7)\n",
        "\n",
        "x = 25\n",
        "print(not(x > 10 and x < 30))"
      ],
      "execution_count": 7,
      "outputs": [
        {
          "output_type": "stream",
          "name": "stdout",
          "text": [
            "True\n",
            "True\n",
            "False\n"
          ]
        }
      ]
    },
    {
      "cell_type": "markdown",
      "metadata": {
        "id": "6vKStWov593o"
      },
      "source": [
        "## 6.\n",
        "Create a list that contains floats and integers, and write a code to sum all the items in the list."
      ]
    },
    {
      "cell_type": "code",
      "metadata": {
        "colab": {
          "base_uri": "https://localhost:8080/"
        },
        "id": "vEDuvzaG4FML",
        "outputId": "9ca99867-ff67-404f-9b9e-8f2bc391f30e"
      },
      "source": [
        "list = [2, 4, 6, 8, 9.5, 10, 12.2]\n",
        "sum(list)"
      ],
      "execution_count": 8,
      "outputs": [
        {
          "output_type": "execute_result",
          "data": {
            "text/plain": [
              "51.7"
            ]
          },
          "metadata": {},
          "execution_count": 8
        }
      ]
    },
    {
      "cell_type": "markdown",
      "metadata": {
        "id": "o3zzyFNI593r"
      },
      "source": [
        "## 7.\n",
        "list1 = [3, 5, 1, 3, 9, 5, 7] \n",
        "\n",
        "Write a code to sort this list in increasing order."
      ]
    },
    {
      "cell_type": "code",
      "metadata": {
        "colab": {
          "base_uri": "https://localhost:8080/"
        },
        "id": "cVfn-fJK4iMG",
        "outputId": "d5951ba2-0ee7-47a6-c86b-8bb2e064a4ae"
      },
      "source": [
        "list1 = [3, 5, 1, 3, 9, 5, 7]\n",
        "list1.sort()\n",
        "list1"
      ],
      "execution_count": 9,
      "outputs": [
        {
          "output_type": "execute_result",
          "data": {
            "text/plain": [
              "[1, 3, 3, 5, 5, 7, 9]"
            ]
          },
          "metadata": {},
          "execution_count": 9
        }
      ]
    },
    {
      "cell_type": "markdown",
      "metadata": {
        "id": "kEks0JoE5938"
      },
      "source": [
        "## 8.\n",
        "\n",
        "list2 = [1, 2, 5, 7, 9, 0, 3, 6, 7, 1, 3, 5, 6, 8, ,2, 9, 0, 5, 2, 1, 2, 4, 2]\n",
        "\n",
        "Write a code to count how many times 2 occured in the list"
      ]
    },
    {
      "cell_type": "code",
      "metadata": {
        "colab": {
          "base_uri": "https://localhost:8080/"
        },
        "id": "zlyNZqbt4sjE",
        "outputId": "3b1348fb-3c96-4c85-dbb3-828e25e8a765"
      },
      "source": [
        "list2 = [1, 2, 5, 7, 9, 0, 3, 6, 7, 1, 3, 5, 6, 8, 2, 9, 0, 5, 2, 1, 2, 4, 2]\n",
        "list2.count(2)"
      ],
      "execution_count": 10,
      "outputs": [
        {
          "output_type": "execute_result",
          "data": {
            "text/plain": [
              "5"
            ]
          },
          "metadata": {},
          "execution_count": 10
        }
      ]
    },
    {
      "cell_type": "markdown",
      "metadata": {
        "id": "K1VJ00NM594I"
      },
      "source": [
        "## 9.\n",
        "list3 = [\"Tosin\", 10.4, 9, (23, \"Faith\", [10, [\"Chinelo\", \"Sandra\"], 22]), 100, 85.5, 12.4, \"Promise\", (\"11\", 90)]\n",
        "\n",
        "Using string formatting, write a code that slices out \"Chinelo\", \"Faith\", slices out the number 100, 85.5, and 90.\n",
        "\n",
        "Your code should print out: Chinelo couldn't score 100%, she got 90%, However, Faith is a close second with 85.5%.\n",
        "\n",
        "NB: Make sure your output contains % sign"
      ]
    },
    {
      "cell_type": "code",
      "metadata": {
        "colab": {
          "base_uri": "https://localhost:8080/",
          "height": 35
        },
        "id": "brqOGByV5e6E",
        "outputId": "72cd60cd-16cf-4083-aeb4-c4d1b43aeeb5"
      },
      "source": [
        "list3 = [\"Tosin\", 10.4, 9, (23, \"Faith\", [10, [\"Chinelo\", \"Sandra\"], 22]), 100, 85.5, 12.4, \"Promise\", (\"11\", 90)]\n",
        "list3[3][2][1][0]"
      ],
      "execution_count": 11,
      "outputs": [
        {
          "output_type": "execute_result",
          "data": {
            "application/vnd.google.colaboratory.intrinsic+json": {
              "type": "string"
            },
            "text/plain": [
              "'Chinelo'"
            ]
          },
          "metadata": {},
          "execution_count": 11
        }
      ]
    },
    {
      "cell_type": "code",
      "metadata": {
        "colab": {
          "base_uri": "https://localhost:8080/",
          "height": 35
        },
        "id": "AbEGthml6MD-",
        "outputId": "8acb4350-cd40-45a5-c920-9be7e65ab9b9"
      },
      "source": [
        "list3 = [\"Tosin\", 10.4, 9, (23, \"Faith\", [10, [\"Chinelo\", \"Sandra\"], 22]), 100, 85.5, 12.4, \"Promise\", (\"11\", 90)]\n",
        "list3[3][1]"
      ],
      "execution_count": 12,
      "outputs": [
        {
          "output_type": "execute_result",
          "data": {
            "application/vnd.google.colaboratory.intrinsic+json": {
              "type": "string"
            },
            "text/plain": [
              "'Faith'"
            ]
          },
          "metadata": {},
          "execution_count": 12
        }
      ]
    },
    {
      "cell_type": "code",
      "metadata": {
        "colab": {
          "base_uri": "https://localhost:8080/"
        },
        "id": "cYzhoz8n6W-H",
        "outputId": "5c8f6311-5f61-4630-ddd7-b2788aa6277a"
      },
      "source": [
        "list3 = [\"Tosin\", 10.4, 9, (23, \"Faith\", [10, [\"Chinelo\", \"Sandra\"], 22]), 100, 85.5, 12.4, \"Promise\", (\"11\", 90)]\n",
        "list3[4]"
      ],
      "execution_count": 13,
      "outputs": [
        {
          "output_type": "execute_result",
          "data": {
            "text/plain": [
              "100"
            ]
          },
          "metadata": {},
          "execution_count": 13
        }
      ]
    },
    {
      "cell_type": "code",
      "metadata": {
        "colab": {
          "base_uri": "https://localhost:8080/"
        },
        "id": "i7ka85XS6hCx",
        "outputId": "39387452-22ff-43b7-8f0a-1f7664e13113"
      },
      "source": [
        "list3 = [\"Tosin\", 10.4, 9, (23, \"Faith\", [10, [\"Chinelo\", \"Sandra\"], 22]), 100, 85.5, 12.4, \"Promise\", (\"11\", 90)]\n",
        "list3[5]"
      ],
      "execution_count": 14,
      "outputs": [
        {
          "output_type": "execute_result",
          "data": {
            "text/plain": [
              "85.5"
            ]
          },
          "metadata": {},
          "execution_count": 14
        }
      ]
    },
    {
      "cell_type": "code",
      "metadata": {
        "colab": {
          "base_uri": "https://localhost:8080/"
        },
        "id": "tVptfRmU6noF",
        "outputId": "5ad81cb4-f5d6-4e9e-8e6b-785640387be6"
      },
      "source": [
        "list3 = [\"Tosin\", 10.4, 9, (23, \"Faith\", [10, [\"Chinelo\", \"Sandra\"], 22]), 100, 85.5, 12.4, \"Promise\", (\"11\", 90)]\n",
        "list3[8][1]"
      ],
      "execution_count": 15,
      "outputs": [
        {
          "output_type": "execute_result",
          "data": {
            "text/plain": [
              "90"
            ]
          },
          "metadata": {},
          "execution_count": 15
        }
      ]
    },
    {
      "cell_type": "code",
      "metadata": {
        "colab": {
          "base_uri": "https://localhost:8080/"
        },
        "id": "Bk89XYCZ7FZo",
        "outputId": "94a96ebf-832e-4af9-d5ff-4631b10a7341"
      },
      "source": [
        "list3 = [\"Tosin\", 10.4, 9, (23, \"Faith\", [10, [\"Chinelo\", \"Sandra\"], 22]), 100, 85.5, 12.4, \"Promise\", (\"11\", 90)]\n",
        "message = (list3[3][2][1][0] + \" couldn't score \" + str(list3[4]) + \"%, she got \" + str(list3[8][1]) + \"%, However,\"  + list3[3][1] + \" is a close second with \" + str(list3[5]) + \"%\")\n",
        "print(message)"
      ],
      "execution_count": 17,
      "outputs": [
        {
          "output_type": "stream",
          "name": "stdout",
          "text": [
            "Chinelo couldn't score 100%, she got 90%, However,Faith is a close second with 85.5%\n"
          ]
        }
      ]
    },
    {
      "cell_type": "markdown",
      "metadata": {
        "id": "3Txq5Qyb594T"
      },
      "source": [
        "## 10.\n",
        "\n",
        "list4 = [\"Chima\", \"Ebuka\", \"Rose\", \"Hassan\", \"Bisi\"]\n",
        "\n",
        "Write a code that removes any of these names and replaces it with your name in that particular index"
      ]
    },
    {
      "cell_type": "code",
      "metadata": {
        "colab": {
          "base_uri": "https://localhost:8080/"
        },
        "id": "Lt_pgVUt-TY-",
        "outputId": "4863f204-88bb-4ce9-b352-15a61db4b21e"
      },
      "source": [
        "list4 = [\"Chima\", \"Ebuka\", \"Rose\", \"Hassan\", \"Bisi\"]\n",
        "list4[0] = \"Sandra\"\n",
        "list4"
      ],
      "execution_count": 21,
      "outputs": [
        {
          "output_type": "execute_result",
          "data": {
            "text/plain": [
              "['Sandra', 'Ebuka', 'Rose', 'Hassan', 'Bisi']"
            ]
          },
          "metadata": {},
          "execution_count": 21
        }
      ]
    },
    {
      "cell_type": "markdown",
      "metadata": {
        "id": "ouEwscYi594X"
      },
      "source": [
        "## 11. \n",
        "\n",
        "list4 = [\"Chima\", \"Ebuka\", \"Rose\", \"Hassan\", \"Bisi\"]\n",
        "\n",
        "Write a code that prints out the index positon of the name \"Rose\""
      ]
    },
    {
      "cell_type": "code",
      "metadata": {
        "colab": {
          "base_uri": "https://localhost:8080/"
        },
        "id": "1aK9nvSr-4Ex",
        "outputId": "5b80a649-3d94-4b7d-9c10-2fbca5a84f33"
      },
      "source": [
        "list4 = [\"Chima\", \"Ebuka\", \"Rose\", \"Hassan\", \"Bisi\"]\n",
        "list4.index(\"Rose\")"
      ],
      "execution_count": 22,
      "outputs": [
        {
          "output_type": "execute_result",
          "data": {
            "text/plain": [
              "2"
            ]
          },
          "metadata": {},
          "execution_count": 22
        }
      ]
    },
    {
      "cell_type": "markdown",
      "metadata": {
        "id": "jnOUsjy7594b"
      },
      "source": [
        "## 12. \n",
        "\n",
        "list4 = [\"Chima\", \"Ebuka\", \"Rose\", \"Hassan\", \"Bisi\"]\n",
        "\n",
        "Write a code that adds your name to this list of names"
      ]
    },
    {
      "cell_type": "code",
      "metadata": {
        "colab": {
          "base_uri": "https://localhost:8080/"
        },
        "id": "5emDH97O_C2q",
        "outputId": "89aedb36-d52a-4d7e-cca0-6fc8b584d5bf"
      },
      "source": [
        "list4 = [\"Chima\", \"Ebuka\", \"Rose\", \"Hassan\", \"Bisi\"]\n",
        "list4.append(\"Sandra\")\n",
        "list4"
      ],
      "execution_count": 24,
      "outputs": [
        {
          "output_type": "execute_result",
          "data": {
            "text/plain": [
              "['Chima', 'Ebuka', 'Rose', 'Hassan', 'Bisi', 'Sandra']"
            ]
          },
          "metadata": {},
          "execution_count": 24
        }
      ]
    },
    {
      "cell_type": "markdown",
      "metadata": {
        "id": "hv0Y5kWK594h"
      },
      "source": [
        "## 13.\n",
        "sets = {3, 1, 10, 4, 5, 6}\n",
        "\n",
        "Write a code that sorts this set in asceding order. Print the output, explain the out you got and why."
      ]
    },
    {
      "cell_type": "code",
      "metadata": {
        "colab": {
          "base_uri": "https://localhost:8080/"
        },
        "id": "aaWMxOKUA3H3",
        "outputId": "08d24696-39d9-4913-baba-a3c755a2f3be"
      },
      "source": [
        "sets = {3, 1, 10, 4, 5, 6}\n",
        "print(sets)"
      ],
      "execution_count": 25,
      "outputs": [
        {
          "output_type": "stream",
          "name": "stdout",
          "text": [
            "{1, 3, 4, 5, 6, 10}\n"
          ]
        }
      ]
    },
    {
      "cell_type": "markdown",
      "metadata": {
        "id": "cfw3D7yoA-g8"
      },
      "source": [
        "Sets are unordered and values in a set cannot be sorted or changed but when you print set, it displays in a sorted manner"
      ]
    },
    {
      "cell_type": "markdown",
      "metadata": {
        "id": "OGt5VMZw594l"
      },
      "source": [
        "## 14.\n",
        "\n",
        "- set1 = {10, 20, 30, 40, 50}\n",
        "- set2 = {30, 40, 50, 60, 70}\n",
        "\n",
        "Write a code prints out a new set with all items from both sets by removing duplicates"
      ]
    },
    {
      "cell_type": "code",
      "metadata": {
        "colab": {
          "base_uri": "https://localhost:8080/"
        },
        "id": "JQTLi4OXDxhP",
        "outputId": "6e4c48db-d546-442e-8c4d-cbb01f12a134"
      },
      "source": [
        "set1 = {10, 20, 30, 40, 50}\n",
        "set2 = {30, 40, 50, 60, 70}\n",
        "set = set1.union(set2)\n",
        "set"
      ],
      "execution_count": 26,
      "outputs": [
        {
          "output_type": "execute_result",
          "data": {
            "text/plain": [
              "{10, 20, 30, 40, 50, 60, 70}"
            ]
          },
          "metadata": {},
          "execution_count": 26
        }
      ]
    },
    {
      "cell_type": "markdown",
      "metadata": {
        "id": "Ff5hi62D594p"
      },
      "source": [
        "## 15.\n",
        "\n",
        "- Create a string that is a long series of words separated by spaces. \n",
        "It can be names, cities, animals, anything. Just make it up yourself.\n",
        "- Turn the string into a list of words using split. \n",
        "- Delete two words from the list, but delete each one using a different kind of Python method. \n",
        "- Sort the list. \n",
        "- Add two new words to the list using two different kinds of Python operation used in adding items to a list. \n",
        "- Turn the list of words back into a single string using join. \n",
        "- Print the string.\n",
        "\n",
        "NB: Feel free to use Google to find out other ways to add and remove items from a list"
      ]
    },
    {
      "cell_type": "markdown",
      "metadata": {
        "id": "mpk_I4KB5941"
      },
      "source": [
        ""
      ]
    },
    {
      "cell_type": "code",
      "metadata": {
        "colab": {
          "base_uri": "https://localhost:8080/"
        },
        "id": "hYOE9H5NGnr4",
        "outputId": "f91f8e7a-53c3-4820-d1f0-36e4ea1ddb82"
      },
      "source": [
        "message = \"My name is Sandra and I am enjoying this Data Analysis course\"\n",
        "list1 = print(message.split())"
      ],
      "execution_count": 46,
      "outputs": [
        {
          "output_type": "stream",
          "name": "stdout",
          "text": [
            "['My', 'name', 'is', 'Sandra', 'and', 'I', 'am', 'enjoying', 'this', 'Data', 'Analysis', 'course']\n"
          ]
        }
      ]
    },
    {
      "cell_type": "code",
      "metadata": {
        "colab": {
          "base_uri": "https://localhost:8080/"
        },
        "id": "jgIRU1HvJL_7",
        "outputId": "9c569043-fd78-4933-fd65-3e798fb058db"
      },
      "source": [
        "list1 = ['My', 'name', 'is', 'Sandra', 'and', 'I', 'am', 'enjoying', 'this', 'Data', 'Analysis', 'course']\n",
        "list1.remove(\"My\")\n",
        "print(list1)"
      ],
      "execution_count": 47,
      "outputs": [
        {
          "output_type": "stream",
          "name": "stdout",
          "text": [
            "['name', 'is', 'Sandra', 'and', 'I', 'am', 'enjoying', 'this', 'Data', 'Analysis', 'course']\n"
          ]
        }
      ]
    },
    {
      "cell_type": "code",
      "metadata": {
        "colab": {
          "base_uri": "https://localhost:8080/"
        },
        "id": "84Vic13SJgc9",
        "outputId": "59ef3831-b398-4989-dd0b-416bba0e3a1d"
      },
      "source": [
        "list1.pop(3)\n",
        "print(list1)"
      ],
      "execution_count": 48,
      "outputs": [
        {
          "output_type": "stream",
          "name": "stdout",
          "text": [
            "['name', 'is', 'Sandra', 'I', 'am', 'enjoying', 'this', 'Data', 'Analysis', 'course']\n"
          ]
        }
      ]
    },
    {
      "cell_type": "code",
      "metadata": {
        "colab": {
          "base_uri": "https://localhost:8080/"
        },
        "id": "j0cL7qZoJ4ze",
        "outputId": "0894e028-6f81-4b9a-ad71-0c2c3c58007f"
      },
      "source": [
        "list1.sort()\n",
        "print(list1)"
      ],
      "execution_count": 49,
      "outputs": [
        {
          "output_type": "stream",
          "name": "stdout",
          "text": [
            "['Analysis', 'Data', 'I', 'Sandra', 'am', 'course', 'enjoying', 'is', 'name', 'this']\n"
          ]
        }
      ]
    },
    {
      "cell_type": "code",
      "metadata": {
        "colab": {
          "base_uri": "https://localhost:8080/"
        },
        "id": "Qw4XtOtzKEGo",
        "outputId": "2e0009d2-7ccc-4233-c8d1-43bd0e26c7cc"
      },
      "source": [
        "list1.append(\"Nwokolo\")\n",
        "print(list1)"
      ],
      "execution_count": 50,
      "outputs": [
        {
          "output_type": "stream",
          "name": "stdout",
          "text": [
            "['Analysis', 'Data', 'I', 'Sandra', 'am', 'course', 'enjoying', 'is', 'name', 'this', 'Nwokolo']\n"
          ]
        }
      ]
    },
    {
      "cell_type": "code",
      "metadata": {
        "colab": {
          "base_uri": "https://localhost:8080/"
        },
        "id": "KAkIt0OkKU_e",
        "outputId": "25c8021f-36c2-409b-896b-b1eeb889e73e"
      },
      "source": [
        "list1.insert(4, \"uche\")\n",
        "print(list1)"
      ],
      "execution_count": 51,
      "outputs": [
        {
          "output_type": "stream",
          "name": "stdout",
          "text": [
            "['Analysis', 'Data', 'I', 'Sandra', 'uche', 'am', 'course', 'enjoying', 'is', 'name', 'this', 'Nwokolo']\n"
          ]
        }
      ]
    },
    {
      "cell_type": "code",
      "metadata": {
        "colab": {
          "base_uri": "https://localhost:8080/"
        },
        "id": "G1rIYS38KjJ0",
        "outputId": "9a597ce6-72ad-4521-a927-46ae2806c27f"
      },
      "source": [
        "str = ( \" \" )\n",
        "list1 = ['Analysis', 'Data', 'I', 'Sandra', 'uche', 'am', 'course', 'enjoying', 'is', 'name', 'this', 'Nwokolo']\n",
        "print(str.join(list1))"
      ],
      "execution_count": 53,
      "outputs": [
        {
          "output_type": "stream",
          "name": "stdout",
          "text": [
            "Analysis Data I Sandra uche am course enjoying is name this Nwokolo\n"
          ]
        }
      ]
    }
  ]
}